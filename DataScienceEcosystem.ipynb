{
 "cells": [
  {
   "cell_type": "markdown",
   "id": "6b80533f",
   "metadata": {},
   "source": [
    "# Data Science Tools and Ecosystem"
   ]
  },
  {
   "cell_type": "markdown",
   "id": "09eda837",
   "metadata": {},
   "source": [
    "In this notebook, Data Science Tools and Ecosystem are summarized."
   ]
  },
  {
   "cell_type": "markdown",
   "id": "7ef87ed3",
   "metadata": {},
   "source": [
    "Some of the popular languages that Data Scientists use are:\n",
    "1.Python\n",
    "2.R\n",
    "3.SQL\n",
    "4.Java\n",
    "5.Scala"
   ]
  },
  {
   "cell_type": "markdown",
   "id": "7fbe622f",
   "metadata": {},
   "source": [
    "Some of the commonly used libraries used by Data Scientists include:\n",
    "1.Numpy\n",
    "2.Matplotlib\n",
    "3.Pandas\n",
    "4.Seaborn"
   ]
  },
  {
   "cell_type": "code",
   "execution_count": null,
   "id": "665cb7ee",
   "metadata": {},
   "outputs": [],
   "source": [
    "| Data Science Tools |\n",
    "| ------------------- |\n",
    "| Jupyter Notebook    |\n",
    "| Git                 |\n",
    "| RStudio             |"
   ]
  },
  {
   "cell_type": "markdown",
   "id": "bd78c9db",
   "metadata": {},
   "source": [
    "| Data Science Tools |\n",
    "| ------------------ |\n",
    "| Jupyter Notebook   |\n",
    "| Git                |\n",
    "| RStudio            |"
   ]
  },
  {
   "cell_type": "markdown",
   "id": "28a1f477",
   "metadata": {},
   "source": []
  },
  {
   "cell_type": "markdown",
   "id": "93c483e9",
   "metadata": {},
   "source": [
    "### Below are a few examples of evaluating arithmetic expressions in Python."
   ]
  },
  {
   "cell_type": "code",
   "execution_count": 19,
   "id": "84c0a657",
   "metadata": {},
   "outputs": [
    {
     "data": {
      "text/plain": [
       "17"
      ]
     },
     "execution_count": 19,
     "metadata": {},
     "output_type": "execute_result"
    }
   ],
   "source": [
    "(3*4)+5\n",
    "#This is a simple arithmetic expression to mutiply, and then add integers"
   ]
  },
  {
   "cell_type": "code",
   "execution_count": 22,
   "id": "2b636ebe",
   "metadata": {},
   "outputs": [
    {
     "name": "stdout",
     "output_type": "stream",
     "text": [
      "3.3333333333333335\n"
     ]
    }
   ],
   "source": [
    "x = 200\n",
    "#This will convert 200 minutes to hours by diving by 60\n",
    "hrs = x/60\n",
    "print(hrs)"
   ]
  },
  {
   "cell_type": "markdown",
   "id": "ad34872d",
   "metadata": {},
   "source": [
    "## Author"
   ]
  },
  {
   "cell_type": "markdown",
   "id": "1ae3c9e8",
   "metadata": {},
   "source": [
    "Sai Pranathi"
   ]
  }
 ],
 "metadata": {
  "kernelspec": {
   "display_name": "Python 3 (ipykernel)",
   "language": "python",
   "name": "python3"
  },
  "language_info": {
   "codemirror_mode": {
    "name": "ipython",
    "version": 3
   },
   "file_extension": ".py",
   "mimetype": "text/x-python",
   "name": "python",
   "nbconvert_exporter": "python",
   "pygments_lexer": "ipython3",
   "version": "3.11.5"
  }
 },
 "nbformat": 4,
 "nbformat_minor": 5
}
